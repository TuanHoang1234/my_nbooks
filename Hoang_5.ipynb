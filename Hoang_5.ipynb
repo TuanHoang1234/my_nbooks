{
 "cells": [
  {
   "cell_type": "markdown",
   "metadata": {},
   "source": [
    "# Exercise 5-4: Get data from a Stata file"
   ]
  },
  {
   "cell_type": "code",
   "execution_count": 2,
   "metadata": {},
   "outputs": [],
   "source": [
    "import pandas as pd"
   ]
  },
  {
   "cell_type": "code",
   "execution_count": 3,
   "metadata": {},
   "outputs": [
    {
     "data": {
      "text/plain": [
       "('gss_stata_with_codebook.zip', <http.client.HTTPMessage at 0x10f9c82d0>)"
      ]
     },
     "execution_count": 3,
     "metadata": {},
     "output_type": "execute_result"
    }
   ],
   "source": [
    "from urllib import request\n",
    "zip_url = 'http://gss.norc.org/Documents/stata/gss_stata_with_codebook.zip'\n",
    "request.urlretrieve(zip_url, filename='gss_stata_with_codebook.zip')"
   ]
  },
  {
   "cell_type": "code",
   "execution_count": 4,
   "metadata": {},
   "outputs": [
    {
     "name": "stdout",
     "output_type": "stream",
     "text": [
      "Release Notes 7218.pdf\n",
      "GSS_Codebook.pdf\n",
      "GSS7218_R3.DTA\n"
     ]
    }
   ],
   "source": [
    "from zipfile import ZipFile\n",
    "with ZipFile('gss_stata_with_codebook.zip', mode='r') as zip:\n",
    "    zip.extractall() \n",
    "    for file in zip.infolist():    \n",
    "        print(file.filename)"
   ]
  },
  {
   "cell_type": "markdown",
   "metadata": {},
   "source": [
    "## Build a DataFrame for the metadata"
   ]
  },
  {
   "cell_type": "code",
   "execution_count": null,
   "metadata": {},
   "outputs": [],
   "source": [
    "%conda install -c conda-forge pyreadstat --yes\n",
    "import pyreadstat\n",
    "gss_stata_filename = 'GSS7218_R3.DTA'"
   ]
  },
  {
   "cell_type": "code",
   "execution_count": 12,
   "metadata": {},
   "outputs": [
    {
     "data": {
      "text/plain": [
       "pyreadstat._readstat_parser.metadata_container"
      ]
     },
     "execution_count": 12,
     "metadata": {},
     "output_type": "execute_result"
    }
   ],
   "source": [
    "# get the metadata container\n",
    "gss_empty, gss_meta = pyreadstat.read_dta( gss_stata_filename, metadataonly=True) \n",
    "type(gss_meta)"
   ]
  },
  {
   "cell_type": "code",
   "execution_count": null,
   "metadata": {},
   "outputs": [],
   "source": [
    "# print the attributes from DataFrame\n",
    "print(\"Number of columns:\", gss_meta.number_columns) \n",
    "print(\"Number of rows:\", gss_meta.number_rows) \n",
    "print(\"Column names:\", gss_meta.column_names)"
   ]
  },
  {
   "cell_type": "code",
   "execution_count": 24,
   "metadata": {},
   "outputs": [
    {
     "data": {
      "text/html": [
       "<div>\n",
       "<style scoped>\n",
       "    .dataframe tbody tr th:only-of-type {\n",
       "        vertical-align: middle;\n",
       "    }\n",
       "\n",
       "    .dataframe tbody tr th {\n",
       "        vertical-align: top;\n",
       "    }\n",
       "\n",
       "    .dataframe thead th {\n",
       "        text-align: right;\n",
       "    }\n",
       "</style>\n",
       "<table border=\"1\" class=\"dataframe\">\n",
       "  <thead>\n",
       "    <tr style=\"text-align: right;\">\n",
       "      <th></th>\n",
       "      <th>description</th>\n",
       "    </tr>\n",
       "  </thead>\n",
       "  <tbody>\n",
       "    <tr>\n",
       "      <th>year</th>\n",
       "      <td>gss year for this respondent</td>\n",
       "    </tr>\n",
       "    <tr>\n",
       "      <th>id</th>\n",
       "      <td>respondent id number</td>\n",
       "    </tr>\n",
       "    <tr>\n",
       "      <th>wrkstat</th>\n",
       "      <td>labor force status</td>\n",
       "    </tr>\n",
       "    <tr>\n",
       "      <th>hrs1</th>\n",
       "      <td>number of hours worked last week</td>\n",
       "    </tr>\n",
       "    <tr>\n",
       "      <th>hrs2</th>\n",
       "      <td>number of hours usually work a week</td>\n",
       "    </tr>\n",
       "  </tbody>\n",
       "</table>\n",
       "</div>"
      ],
      "text/plain": [
       "                                 description\n",
       "year            gss year for this respondent\n",
       "id                      respondent id number\n",
       "wrkstat                   labor force status\n",
       "hrs1        number of hours worked last week\n",
       "hrs2     number of hours usually work a week"
      ]
     },
     "execution_count": 24,
     "metadata": {},
     "output_type": "execute_result"
    }
   ],
   "source": [
    "# build a DataFrame from the metadata\n",
    "import pandas as pd \n",
    "meta_cols=pd.DataFrame(data=gss_meta.column_labels, index=gss_meta.column_names, columns=['description']) \n",
    "meta_cols.head(5)"
   ]
  },
  {
   "cell_type": "markdown",
   "metadata": {},
   "source": [
    "## Read the data into a DataFrame"
   ]
  },
  {
   "cell_type": "code",
   "execution_count": 31,
   "metadata": {
    "tags": []
   },
   "outputs": [
    {
     "data": {
      "text/html": [
       "<div>\n",
       "<style scoped>\n",
       "    .dataframe tbody tr th:only-of-type {\n",
       "        vertical-align: middle;\n",
       "    }\n",
       "\n",
       "    .dataframe tbody tr th {\n",
       "        vertical-align: top;\n",
       "    }\n",
       "\n",
       "    .dataframe thead th {\n",
       "        text-align: right;\n",
       "    }\n",
       "</style>\n",
       "<table border=\"1\" class=\"dataframe\">\n",
       "  <thead>\n",
       "    <tr style=\"text-align: right;\">\n",
       "      <th></th>\n",
       "      <th>year</th>\n",
       "      <th>id</th>\n",
       "      <th>wrkstat</th>\n",
       "      <th>hrs1</th>\n",
       "      <th>hrs2</th>\n",
       "      <th>evwork</th>\n",
       "      <th>wrkslf</th>\n",
       "      <th>wrkgovt</th>\n",
       "    </tr>\n",
       "  </thead>\n",
       "  <tbody>\n",
       "    <tr>\n",
       "      <th>64809</th>\n",
       "      <td>2018</td>\n",
       "      <td>2344</td>\n",
       "      <td>working fulltime</td>\n",
       "      <td>36.0</td>\n",
       "      <td>NaN</td>\n",
       "      <td>NaN</td>\n",
       "      <td>someone else</td>\n",
       "      <td>government</td>\n",
       "    </tr>\n",
       "    <tr>\n",
       "      <th>64810</th>\n",
       "      <td>2018</td>\n",
       "      <td>2345</td>\n",
       "      <td>working parttime</td>\n",
       "      <td>36.0</td>\n",
       "      <td>NaN</td>\n",
       "      <td>NaN</td>\n",
       "      <td>someone else</td>\n",
       "      <td>private</td>\n",
       "    </tr>\n",
       "    <tr>\n",
       "      <th>64811</th>\n",
       "      <td>2018</td>\n",
       "      <td>2346</td>\n",
       "      <td>retired</td>\n",
       "      <td>NaN</td>\n",
       "      <td>NaN</td>\n",
       "      <td>yes</td>\n",
       "      <td>someone else</td>\n",
       "      <td>private</td>\n",
       "    </tr>\n",
       "    <tr>\n",
       "      <th>64812</th>\n",
       "      <td>2018</td>\n",
       "      <td>2347</td>\n",
       "      <td>retired</td>\n",
       "      <td>NaN</td>\n",
       "      <td>NaN</td>\n",
       "      <td>yes</td>\n",
       "      <td>someone else</td>\n",
       "      <td>private</td>\n",
       "    </tr>\n",
       "    <tr>\n",
       "      <th>64813</th>\n",
       "      <td>2018</td>\n",
       "      <td>2348</td>\n",
       "      <td>keeping house</td>\n",
       "      <td>NaN</td>\n",
       "      <td>NaN</td>\n",
       "      <td>yes</td>\n",
       "      <td>someone else</td>\n",
       "      <td>government</td>\n",
       "    </tr>\n",
       "  </tbody>\n",
       "</table>\n",
       "</div>"
      ],
      "text/plain": [
       "       year    id           wrkstat  hrs1 hrs2 evwork        wrkslf  \\\n",
       "64809  2018  2344  working fulltime  36.0  NaN    NaN  someone else   \n",
       "64810  2018  2345  working parttime  36.0  NaN    NaN  someone else   \n",
       "64811  2018  2346           retired   NaN  NaN    yes  someone else   \n",
       "64812  2018  2347           retired   NaN  NaN    yes  someone else   \n",
       "64813  2018  2348     keeping house   NaN  NaN    yes  someone else   \n",
       "\n",
       "          wrkgovt  \n",
       "64809  government  \n",
       "64810     private  \n",
       "64811     private  \n",
       "64812     private  \n",
       "64813  government  "
      ]
     },
     "execution_count": 31,
     "metadata": {},
     "output_type": "execute_result"
    }
   ],
   "source": [
    "# read at least 5 columns from the stata file into a DataFrame\n",
    "gss_data = pd.read_stata('GSS7218_R3.DTA',\n",
    "    columns=['year','id','wrkstat','hrs1','hrs2','evwork','wrkslf','wrkgovt']) \n",
    "gss_data.tail()"
   ]
  }
 ],
 "metadata": {
  "kernelspec": {
   "display_name": "Python 3 (ipykernel)",
   "language": "python",
   "name": "python3"
  },
  "language_info": {
   "codemirror_mode": {
    "name": "ipython",
    "version": 3
   },
   "file_extension": ".py",
   "mimetype": "text/x-python",
   "name": "python",
   "nbconvert_exporter": "python",
   "pygments_lexer": "ipython3",
   "version": "3.11.7"
  }
 },
 "nbformat": 4,
 "nbformat_minor": 4
}
