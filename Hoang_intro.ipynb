{
 "cells": [
  {
   "cell_type": "markdown",
   "id": "b62a37ac-462a-441d-92fc-b7a61c0b4f7c",
   "metadata": {},
   "source": [
    "# Intro"
   ]
  },
  {
   "cell_type": "markdown",
   "id": "ce703ca7-0dfa-41c0-ae26-65158c0c7c5f",
   "metadata": {},
   "source": [
    "## Tuan Hoang"
   ]
  },
  {
   "cell_type": "code",
   "execution_count": 1,
   "id": "e0b81f7b-4ddb-4efe-8db9-d3f4c388e9d9",
   "metadata": {},
   "outputs": [
    {
     "name": "stdout",
     "output_type": "stream",
     "text": [
      "[66, 71, 44, 98, 56, 48, 80, 76, 32, 49, 73, 47, 40, 86, 87, 100, 38, 36, 80, 87, 47, 35, 59, 98, 30, 31, 48, 87, 36, 39, 59, 36, 36, 91, 73, 91, 71, 67, 61, 38]\n"
     ]
    }
   ],
   "source": [
    "import random\n",
    "nums = [random.randint(30,100) for _ in range(40)]\n",
    "print(nums)"
   ]
  },
  {
   "cell_type": "code",
   "execution_count": 2,
   "id": "1f49c2b3-bb9f-4b20-8022-51c1d6e65e91",
   "metadata": {},
   "outputs": [
    {
     "name": "stdout",
     "output_type": "stream",
     "text": [
      "30 31 32 35 36 36 36 36 38 38 39 40 44 47 47 48 48 49 56 59 59 61 66 67 71 71 73 73 76 80 80 86 87 87 87 91 91 98 98 100 "
     ]
    }
   ],
   "source": [
    "nums.sort()\n",
    "for num in nums:\n",
    "    print(num, end=' ')"
   ]
  },
  {
   "cell_type": "markdown",
   "id": "eb1629e5-0722-46c9-851b-0e610af55764",
   "metadata": {},
   "source": [
    "## The Sample Mean\n",
    "- Add up all the values in the sample\n",
    "- Divide the sum by the number of values in the sample"
   ]
  },
  {
   "cell_type": "markdown",
   "id": "957a61d7-59f4-4549-b402-dfa61eddd6e3",
   "metadata": {},
   "source": [
    "$\\bar{x} = \\frac{\\sum x_i}{n}$"
   ]
  },
  {
   "cell_type": "code",
   "execution_count": 3,
   "id": "4726ac2c-d22a-4490-9aac-4451d45d0d70",
   "metadata": {},
   "outputs": [
    {
     "name": "stdout",
     "output_type": "stream",
     "text": [
      "The sample mean is:  60.67\n"
     ]
    }
   ],
   "source": [
    "sample_mean = sum(nums) / len(nums)\n",
    "print(f\"The sample mean is: {sample_mean: .2f}\")"
   ]
  },
  {
   "cell_type": "markdown",
   "id": "43aca812-1832-4bd6-ae39-793b041b2e6b",
   "metadata": {},
   "source": [
    "## The Median\n",
    "https://www.investopedia.com/terms/m/median.asp"
   ]
  },
  {
   "cell_type": "markdown",
   "id": "269f977a-3f1c-42aa-bf80-c30d761d4d1f",
   "metadata": {},
   "source": [
    "How to calculate the median for an even number of values\n",
    "- Sort the list of values\n",
    "- Find the middle two values and take the average"
   ]
  },
  {
   "cell_type": "code",
   "execution_count": 4,
   "id": "185b498c-6abc-46fb-a817-aa5ba29692ea",
   "metadata": {},
   "outputs": [
    {
     "name": "stdout",
     "output_type": "stream",
     "text": [
      "The median is: 59.0\n"
     ]
    }
   ],
   "source": [
    "nums.sort()\n",
    "median = (nums[len(nums)//2-1] + nums[len(nums)//2])/2\n",
    "print(f\"The median is: {median:.1f}\")"
   ]
  }
 ],
 "metadata": {
  "kernelspec": {
   "display_name": "Python 3 (ipykernel)",
   "language": "python",
   "name": "python3"
  },
  "language_info": {
   "codemirror_mode": {
    "name": "ipython",
    "version": 3
   },
   "file_extension": ".py",
   "mimetype": "text/x-python",
   "name": "python",
   "nbconvert_exporter": "python",
   "pygments_lexer": "ipython3",
   "version": "3.11.7"
  }
 },
 "nbformat": 4,
 "nbformat_minor": 5
}
